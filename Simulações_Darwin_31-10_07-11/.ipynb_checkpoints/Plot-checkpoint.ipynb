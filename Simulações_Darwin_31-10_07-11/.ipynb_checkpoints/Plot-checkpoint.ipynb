{
 "metadata": {
  "name": ""
 },
 "nbformat": 3,
 "nbformat_minor": 0,
 "worksheets": [
  {
   "cells": [
    {
     "cell_type": "code",
     "collapsed": false,
     "input": [
      "from __future__ import unicode_literals\n",
      "# -*- coding: utf-8 -*-\n",
      "%matplotlib inline\n",
      "%pylab inline\n",
      "import matplotlib.pyplot as plt\n",
      "import numpy as np\n",
      "plt.rcParams['text.usetex']=True\n",
      "plt.rc('font', family='serif')\n",
      "plt.rcParams['text.latex.unicode']=True"
     ],
     "language": "python",
     "metadata": {},
     "outputs": [
      {
       "output_type": "stream",
       "stream": "stdout",
       "text": [
        "Populating the interactive namespace from numpy and matplotlib\n"
       ]
      }
     ],
     "prompt_number": 65
    },
    {
     "cell_type": "code",
     "collapsed": false,
     "input": [
      "arquivo = open(\"dados_do_artigoDARWIN[9,2].txt\", 'r')\n",
      "alleles = []\n",
      "for linha in arquivo:\n",
      "    linha = linha.split()\n",
      "    for i in range(len(linha)):\n",
      "        alleles.append(int(linha[i]))\n",
      "alleles = np.array(alleles)"
     ],
     "language": "python",
     "metadata": {},
     "outputs": [],
     "prompt_number": 66
    },
    {
     "cell_type": "code",
     "collapsed": false,
     "input": [
      "plt.plot(np.arange(10000),alleles, label = \"Coevolution\")\n",
      "plt.axis([1,10000,1,20])\n",
      "plt.legend(loc = 'best')\n",
      "plt.xlabel(r\"Generations\")\n",
      "plt.ylabel(r\"Number of alleles\")\n",
      "plt.title(r\"$N_{host} = 1000$, $N_S = 50$, $\\mu_{path} = 10^{-1}$, $\\mu_{host} = 10^{-5}$\")\n",
      "plt.show()"
     ],
     "language": "python",
     "metadata": {},
     "outputs": [
      {
       "metadata": {},
       "output_type": "display_data",
       "text": [
        "<matplotlib.figure.Figure at 0xaa079f8c>"
       ]
      }
     ],
     "prompt_number": 67
    },
    {
     "cell_type": "code",
     "collapsed": false,
     "input": [
      "plt.plot(np.arange(20),np.arange(0,100,5))\n",
      "plt.show()"
     ],
     "language": "python",
     "metadata": {},
     "outputs": [
      {
       "metadata": {},
       "output_type": "display_data",
       "text": [
        "<matplotlib.figure.Figure at 0xaa06e3ec>"
       ]
      }
     ],
     "prompt_number": 64
    }
   ],
   "metadata": {}
  }
 ]
}